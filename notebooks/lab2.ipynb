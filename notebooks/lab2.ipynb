{
 "cells": [
  {
   "cell_type": "code",
   "execution_count": null,
   "source": [
    "%load_ext autoreload\r\n",
    "%autoreload 2"
   ],
   "outputs": [],
   "metadata": {}
  },
  {
   "cell_type": "code",
   "execution_count": null,
   "source": [
    "from lab2.box_window import BoxWindow\r\n",
    "\r\n",
    "my_object = BoxWindow([[1, 3], [3, 4], [5, 9]])\r\n",
    "#str(my_object.bounds[0])\r\n",
    "str(my_object)\r\n",
    "my_object.bounds \r\n",
    "#my_object.bounds.size\r\n",
    "#my_object.__str__()\r\n",
    "point = [1.5, 4, 7]\r\n",
    "len(my_object)\r\n",
    "point in my_object\r\n"
   ],
   "outputs": [],
   "metadata": {}
  },
  {
   "cell_type": "code",
   "execution_count": null,
   "source": [
    "p = [1, 2]\r\n",
    "p in my_object"
   ],
   "outputs": [],
   "metadata": {}
  },
  {
   "cell_type": "code",
   "execution_count": null,
   "source": [
    "A = str([1,2])\r\n",
    "A += \" str\"\r\n",
    "A"
   ],
   "outputs": [],
   "metadata": {}
  },
  {
   "cell_type": "code",
   "execution_count": null,
   "source": [
    "import numpy as np\r\n",
    "B = np.array([1,2])\r\n",
    "str(list(B))\r\n",
    "len(B)"
   ],
   "outputs": [],
   "metadata": {}
  },
  {
   "cell_type": "code",
   "execution_count": null,
   "source": [
    "my_object.volume()\r\n",
    "#my_object.bounds[0][0]"
   ],
   "outputs": [],
   "metadata": {}
  },
  {
   "cell_type": "code",
   "execution_count": null,
   "source": [
    "points = np.array([[1, 2, 6], [3, 4, 5]])\r\n",
    "points[0]\r\n",
    "my_object.indicator_function_multiple_points(points)"
   ],
   "outputs": [],
   "metadata": {}
  },
  {
   "cell_type": "code",
   "execution_count": null,
   "source": [
    "import numpy as np\r\n",
    "points = [[1, 2], [2, 3, 4]]\r\n",
    "len(points)"
   ],
   "outputs": [],
   "metadata": {}
  },
  {
   "cell_type": "code",
   "execution_count": null,
   "source": [],
   "outputs": [],
   "metadata": {}
  }
 ],
 "metadata": {
  "orig_nbformat": 4,
  "language_info": {
   "name": "python",
   "version": "3.8.11",
   "mimetype": "text/x-python",
   "codemirror_mode": {
    "name": "ipython",
    "version": 3
   },
   "pygments_lexer": "ipython3",
   "nbconvert_exporter": "python",
   "file_extension": ".py"
  },
  "kernelspec": {
   "name": "python3",
   "display_name": "Python 3.8.11 64-bit ('sdia-python': conda)"
  },
  "interpreter": {
   "hash": "8af255c383035b111fc18b4d128849444c1d2898a4a5216c1bd1cc24d30d6f01"
  }
 },
 "nbformat": 4,
 "nbformat_minor": 2
}