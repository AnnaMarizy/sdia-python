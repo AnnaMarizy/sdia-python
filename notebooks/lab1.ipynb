{
 "cells": [
  {
   "cell_type": "markdown",
   "source": [
    "# Practical session 1 - Some Python basics\r\n",
    "\r\n",
    "Course: [SDIA-Python](https://github.com/guilgautier/sdia-python)\r\n",
    "\r\n",
    "Dates: 09/21/2021-09/22/2021\r\n",
    "\r\n",
    "Instructor: [Guillaume Gautier](https://guilgautier.github.io/)\r\n",
    "\r\n",
    "Students (pair):\r\n",
    "- [Student 1]([link](https://github.com/LoanSarazin/))\r\n",
    "- [Student 2]([link](https://github.com/AnnaMarizy/))"
   ],
   "metadata": {}
  },
  {
   "cell_type": "code",
   "execution_count": 7,
   "source": [
    "%load_ext autoreload\r\n",
    "%autoreload 2"
   ],
   "outputs": [],
   "metadata": {}
  },
  {
   "cell_type": "markdown",
   "source": [
    "## Documentation\r\n",
    "\r\n",
    "To display the documentation associated to a Python function in your notebook (launched in VSCode), you can either\r\n",
    "- run `?functionname` or `help(my_adder)`\r\n",
    "- place your mouse pointer on the function name\r\n",
    "- write the name of the function and start opening the brackets"
   ],
   "metadata": {}
  },
  {
   "cell_type": "markdown",
   "source": [
    "## Zen of Python\r\n"
   ],
   "metadata": {}
  },
  {
   "cell_type": "code",
   "execution_count": 8,
   "source": [
    "import this"
   ],
   "outputs": [
    {
     "output_type": "stream",
     "name": "stdout",
     "text": [
      "The Zen of Python, by Tim Peters\n",
      "\n",
      "Beautiful is better than ugly.\n",
      "Explicit is better than implicit.\n",
      "Simple is better than complex.\n",
      "Complex is better than complicated.\n",
      "Flat is better than nested.\n",
      "Sparse is better than dense.\n",
      "Readability counts.\n",
      "Special cases aren't special enough to break the rules.\n",
      "Although practicality beats purity.\n",
      "Errors should never pass silently.\n",
      "Unless explicitly silenced.\n",
      "In the face of ambiguity, refuse the temptation to guess.\n",
      "There should be one-- and preferably only one --obvious way to do it.\n",
      "Although that way may not be obvious at first unless you're Dutch.\n",
      "Now is better than never.\n",
      "Although never is often better than *right* now.\n",
      "If the implementation is hard to explain, it's a bad idea.\n",
      "If the implementation is easy to explain, it may be a good idea.\n",
      "Namespaces are one honking great idea -- let's do more of those!\n"
     ]
    }
   ],
   "metadata": {}
  },
  {
   "cell_type": "markdown",
   "source": [
    "## Reserved keywords\n"
   ],
   "metadata": {}
  },
  {
   "cell_type": "code",
   "execution_count": 9,
   "source": [
    "import keyword\r\n",
    "print(keyword.kwlist)"
   ],
   "outputs": [
    {
     "output_type": "stream",
     "name": "stdout",
     "text": [
      "['False', 'None', 'True', 'and', 'as', 'assert', 'async', 'await', 'break', 'class', 'continue', 'def', 'del', 'elif', 'else', 'except', 'finally', 'for', 'from', 'global', 'if', 'import', 'in', 'is', 'lambda', 'nonlocal', 'not', 'or', 'pass', 'raise', 'return', 'try', 'while', 'with', 'yield']\n"
     ]
    }
   ],
   "metadata": {}
  },
  {
   "cell_type": "markdown",
   "source": [
    "## Arithmetic"
   ],
   "metadata": {}
  },
  {
   "cell_type": "markdown",
   "source": [
    "Compute 4 raised to the power 8"
   ],
   "metadata": {}
  },
  {
   "cell_type": "code",
   "execution_count": 10,
   "source": [
    "4**8"
   ],
   "outputs": [
    {
     "output_type": "execute_result",
     "data": {
      "text/plain": [
       "65536"
      ]
     },
     "metadata": {},
     "execution_count": 10
    }
   ],
   "metadata": {}
  },
  {
   "cell_type": "markdown",
   "source": [
    "Compute the quotient and the remainder of the euclidean division of 17 by 3. "
   ],
   "metadata": {}
  },
  {
   "cell_type": "code",
   "execution_count": 11,
   "source": [
    "print(\"Quotient = \" + str(17//3))\r\n",
    "print(\"Reste = \" + str(17%3))\r\n",
    "divmod(17, 3)"
   ],
   "outputs": [
    {
     "output_type": "stream",
     "name": "stdout",
     "text": [
      "Quotient = 5\n",
      "Reste = 2\n"
     ]
    },
    {
     "output_type": "execute_result",
     "data": {
      "text/plain": [
       "(5, 2)"
      ]
     },
     "metadata": {},
     "execution_count": 11
    }
   ],
   "metadata": {}
  },
  {
   "cell_type": "markdown",
   "source": [
    "Create two integer variables `a, b` of your choice and swap their content."
   ],
   "metadata": {}
  },
  {
   "cell_type": "code",
   "execution_count": 12,
   "source": [
    "a = 12\r\n",
    "b = 27\r\n",
    "\r\n",
    "a, b = b, a\r\n",
    "print(str(a) + \"; \" + str(b))"
   ],
   "outputs": [
    {
     "output_type": "stream",
     "name": "stdout",
     "text": [
      "27; 12\n"
     ]
    }
   ],
   "metadata": {}
  },
  {
   "cell_type": "markdown",
   "source": [
    "Modify `a` inplace, so that the new value of `a` is twice its previous value."
   ],
   "metadata": {}
  },
  {
   "cell_type": "code",
   "execution_count": 13,
   "source": [
    "a = 2*a\r\n",
    "print(a)"
   ],
   "outputs": [
    {
     "output_type": "stream",
     "name": "stdout",
     "text": [
      "54\n"
     ]
    }
   ],
   "metadata": {}
  },
  {
   "cell_type": "markdown",
   "source": [
    "Define a complex number `z` and print it as\n",
    "\n",
    "`real=real-part, imag=imaginary-part`"
   ],
   "metadata": {}
  },
  {
   "cell_type": "code",
   "execution_count": 14,
   "source": [
    "z = complex(5, 12)\r\n",
    "print(\"Real = \" + str(z.real) + \", Imag = \" + str(z.imag))"
   ],
   "outputs": [
    {
     "output_type": "stream",
     "name": "stdout",
     "text": [
      "Real = 5.0, Imag = 12.0\n"
     ]
    }
   ],
   "metadata": {}
  },
  {
   "cell_type": "markdown",
   "source": [
    "## Strings\n"
   ],
   "metadata": {}
  },
  {
   "cell_type": "markdown",
   "source": [
    "Propose two ways to define an empty string"
   ],
   "metadata": {}
  },
  {
   "cell_type": "code",
   "execution_count": 15,
   "source": [
    "emptystring1 = \"\"\r\n",
    "emptystring2 = str()"
   ],
   "outputs": [],
   "metadata": {}
  },
  {
   "cell_type": "markdown",
   "source": [
    "Define a string made of the 26 letters of the alphabet (lower case), then\n",
    "- What is the 12th letter of the alphabet\n",
    "- What are the 10 last letters of the alphabet\n",
    "- What are the 5th to the 10th letters of the alphabet\n",
    "- Create a new string where the 26 letters are converted to upper case."
   ],
   "metadata": {}
  },
  {
   "cell_type": "code",
   "execution_count": 16,
   "source": [
    "alph = \"abcdefghijklmnopqrstuvwxyz\"\r\n",
    "print(alph)\r\n",
    "print(alph[11])\r\n",
    "print(alph[-10:])\r\n",
    "print(alph[4:10])\r\n",
    "print(alph.upper())"
   ],
   "outputs": [
    {
     "output_type": "stream",
     "name": "stdout",
     "text": [
      "abcdefghijklmnopqrstuvwxyz\n",
      "l\n",
      "qrstuvwxyz\n",
      "efghij\n",
      "ABCDEFGHIJKLMNOPQRSTUVWXYZ\n"
     ]
    }
   ],
   "metadata": {}
  },
  {
   "cell_type": "markdown",
   "source": [
    "Extract the first 4 digits of the number `x = 2341324530045968` (answer is `2341`)."
   ],
   "metadata": {}
  },
  {
   "cell_type": "code",
   "execution_count": 17,
   "source": [
    "x = 2341324530045968\r\n",
    "print(str(x)[:4])"
   ],
   "outputs": [
    {
     "output_type": "stream",
     "name": "stdout",
     "text": [
      "2341\n"
     ]
    }
   ],
   "metadata": {}
  },
  {
   "cell_type": "markdown",
   "source": [
    "## Lists"
   ],
   "metadata": {}
  },
  {
   "cell_type": "markdown",
   "source": [
    "Propose two ways to define an empty list."
   ],
   "metadata": {}
  },
  {
   "cell_type": "code",
   "execution_count": 18,
   "source": [
    "l1 = []\r\n",
    "l2 = list()"
   ],
   "outputs": [],
   "metadata": {}
  },
  {
   "cell_type": "markdown",
   "source": [
    "Create the list of consecutive integers from 5 to 11."
   ],
   "metadata": {}
  },
  {
   "cell_type": "code",
   "execution_count": 19,
   "source": [
    "l = [i for i in range(5, 12)]\r\n",
    "l = list(range(5, 11 + 1))\r\n",
    "print(l)"
   ],
   "outputs": [
    {
     "output_type": "stream",
     "name": "stdout",
     "text": [
      "[5, 6, 7, 8, 9, 10, 11]\n"
     ]
    }
   ],
   "metadata": {}
  },
  {
   "cell_type": "markdown",
   "source": [
    "Add `100` to this list."
   ],
   "metadata": {}
  },
  {
   "cell_type": "code",
   "execution_count": 20,
   "source": [
    "l.append(100)\r\n",
    "print(l)"
   ],
   "outputs": [
    {
     "output_type": "stream",
     "name": "stdout",
     "text": [
      "[5, 6, 7, 8, 9, 10, 11, 100]\n"
     ]
    }
   ],
   "metadata": {}
  },
  {
   "cell_type": "markdown",
   "source": [
    "Given the following list, \n",
    "Change the `\"sdia\"` to its reverse (`\"aids\"`)."
   ],
   "metadata": {}
  },
  {
   "cell_type": "code",
   "execution_count": 21,
   "source": [
    "x = [10, [3, 4], [5, [100, 200, [\"sdia\"]], 23, 11], 1, 7]\r\n",
    "\r\n",
    "def reverse_str(s) :\r\n",
    "    temp = str()\r\n",
    "    for i in range(1, len(s)+1) :\r\n",
    "        temp += s[-i]\r\n",
    "    return(temp)\r\n",
    "\r\n",
    "#x[2][1][2][0] = reverse_str(x[2][1][2][0])\r\n",
    "x[2][1][2][0] = x[2][1][2][0][::-1]\r\n",
    "print(x)"
   ],
   "outputs": [
    {
     "output_type": "stream",
     "name": "stdout",
     "text": [
      "[10, [3, 4], [5, [100, 200, ['aids']], 23, 11], 1, 7]\n"
     ]
    }
   ],
   "metadata": {}
  },
  {
   "cell_type": "markdown",
   "source": [
    "Given the following list, \n",
    "\n",
    "  1. extract the first two items\n",
    "  2. extract the last two items\n",
    "  3. find the index of the first occurence of `9`\n",
    "  4. extract the items located at odd indices\n",
    "  5. create a new list which corresponds to the reversed version of the originial list\n",
    "  6. create a new list where each item of the original list is raised to the power 3"
   ],
   "metadata": {}
  },
  {
   "cell_type": "code",
   "execution_count": 22,
   "source": [
    "x = [3, 7, 5, 3, 8, 6, 8, 8, 0, 7, 3, 9, 3, 4, 2, 7, 0, 9, 5, 0, 0, 9, 0, 9, 3, 1, 4, 0, 5, 5, 5, 8, 9, 9, 5, 5, 4, 9, 5, 6, 2, 8, 5, 2, 4, 9, 2, 2, 3, 1]\r\n",
    "\r\n",
    "print(x[:2])\r\n",
    "print(x[-2:])\r\n",
    "print(x.index(9))\r\n",
    "print(x[1::2])\r\n",
    "\r\n",
    "xrev = [x[-i] for i in range(1, len(x) + 1)]\r\n",
    "print(xrev)\r\n",
    "\r\n",
    "xpow = [value**3 for value in x]\r\n",
    "print(xpow)"
   ],
   "outputs": [
    {
     "output_type": "stream",
     "name": "stdout",
     "text": [
      "[3, 7]\n",
      "[3, 1]\n",
      "11\n",
      "[7, 3, 6, 8, 7, 9, 4, 7, 9, 0, 9, 9, 1, 0, 5, 8, 9, 5, 9, 6, 8, 2, 9, 2, 1]\n",
      "[1, 3, 2, 2, 9, 4, 2, 5, 8, 2, 6, 5, 9, 4, 5, 5, 9, 9, 8, 5, 5, 5, 0, 4, 1, 3, 9, 0, 9, 0, 0, 5, 9, 0, 7, 2, 4, 3, 9, 3, 7, 0, 8, 8, 6, 8, 3, 5, 7, 3]\n",
      "[27, 343, 125, 27, 512, 216, 512, 512, 0, 343, 27, 729, 27, 64, 8, 343, 0, 729, 125, 0, 0, 729, 0, 729, 27, 1, 64, 0, 125, 125, 125, 512, 729, 729, 125, 125, 64, 729, 125, 216, 8, 512, 125, 8, 64, 729, 8, 8, 27, 1]\n"
     ]
    }
   ],
   "metadata": {}
  },
  {
   "cell_type": "markdown",
   "source": [
    "## Tuples"
   ],
   "metadata": {}
  },
  {
   "cell_type": "markdown",
   "source": [
    "\n",
    "Propose two ways to define an empty tuple."
   ],
   "metadata": {}
  },
  {
   "cell_type": "code",
   "execution_count": 23,
   "source": [
    "t1 = ()\r\n",
    "t2 = tuple()"
   ],
   "outputs": [],
   "metadata": {}
  },
  {
   "cell_type": "markdown",
   "source": [
    "Given the following tuple\r\n",
    "- try to replace the second item (`4`) to `8`.\r\n",
    "- modify the list so that the second element of the first item is raised to the power 5 "
   ],
   "metadata": {}
  },
  {
   "cell_type": "markdown",
   "source": [
    "x = ([1, 2, 3], 4)"
   ],
   "metadata": {}
  },
  {
   "cell_type": "code",
   "execution_count": 24,
   "source": [
    "x = ([1, 2, 3], 4)\r\n",
    "x[0][1] = x[0][1]**5\r\n",
    "print(x)"
   ],
   "outputs": [
    {
     "output_type": "stream",
     "name": "stdout",
     "text": [
      "([1, 32, 3], 4)\n"
     ]
    }
   ],
   "metadata": {}
  },
  {
   "cell_type": "markdown",
   "source": [
    "What is the main difference between a list and a tuple?"
   ],
   "metadata": {}
  },
  {
   "cell_type": "markdown",
   "source": [
    "A list can be modified directly, not a tuple."
   ],
   "metadata": {}
  },
  {
   "cell_type": "markdown",
   "source": [
    "## Sets"
   ],
   "metadata": {}
  },
  {
   "cell_type": "markdown",
   "source": [
    "Create an empty set"
   ],
   "metadata": {}
  },
  {
   "cell_type": "code",
   "execution_count": 25,
   "source": [
    "s1 = set()"
   ],
   "outputs": [],
   "metadata": {}
  },
  {
   "cell_type": "markdown",
   "source": [
    "Compute the intersection between $A = \\{1, 2, 3\\}$ and $B = \\{2, 4, 5, 6\\}$."
   ],
   "metadata": {}
  },
  {
   "cell_type": "code",
   "execution_count": 26,
   "source": [
    "A = {1, 2, 3}\r\n",
    "B = {2, 4, 5, 6}\r\n",
    "set.union(A, B)"
   ],
   "outputs": [
    {
     "output_type": "execute_result",
     "data": {
      "text/plain": [
       "{1, 2, 3, 4, 5, 6}"
      ]
     },
     "metadata": {},
     "execution_count": 26
    }
   ],
   "metadata": {}
  },
  {
   "cell_type": "markdown",
   "source": [
    "From the following set\r\n",
    "- add the numbers 4, 5, 6\r\n",
    "- remove the numbers 1, 2, 3\r\n",
    "- check if the resulting set is contained in `{1, 2, 4, 5, 6, 10}` "
   ],
   "metadata": {}
  },
  {
   "cell_type": "code",
   "execution_count": 27,
   "source": [
    "x = {0, 1, 2, 3, 6, 7, 8, 9, 10}\r\n",
    "for item in (4, 5, 6) :\r\n",
    "    x.add(item)\r\n",
    "for item in (1, 2, 3) :\r\n",
    "    x.remove(item)\r\n",
    "x.issubset({1, 2, 4, 5, 6, 10})"
   ],
   "outputs": [
    {
     "output_type": "execute_result",
     "data": {
      "text/plain": [
       "False"
      ]
     },
     "metadata": {},
     "execution_count": 27
    }
   ],
   "metadata": {}
  },
  {
   "cell_type": "markdown",
   "source": [
    "## Dictionnaries"
   ],
   "metadata": {}
  },
  {
   "cell_type": "markdown",
   "source": [
    "Propose two ways to define an empty dictionary"
   ],
   "metadata": {}
  },
  {
   "cell_type": "code",
   "execution_count": 28,
   "source": [
    "d1 = None\r\n",
    "d2 = dict()"
   ],
   "outputs": [],
   "metadata": {}
  },
  {
   "cell_type": "markdown",
   "source": [
    "Propose at least 3 ways to define a dictionary with \r\n",
    "- keys `(\"a\", \"b\", \"c\", \"d\")`\r\n",
    "- values `(1, 3, 5 , 7)`"
   ],
   "metadata": {}
  },
  {
   "cell_type": "code",
   "execution_count": 29,
   "source": [
    "L = [(\"a\", 1), (\"b\", 3), (\"c\", 5), (\"d\", 7)]\r\n",
    "d1 = dict(L)\r\n",
    "\r\n",
    "d2 = dict()\r\n",
    "d2[\"a\"] = 1; d2[\"b\"] = 3; d2[\"c\"] = 5; d2[\"d\"] = 7\r\n",
    "print(d2)\r\n",
    "\r\n"
   ],
   "outputs": [
    {
     "output_type": "stream",
     "name": "stdout",
     "text": [
      "{'a': 1, 'b': 3, 'c': 5, 'd': 7}\n"
     ]
    }
   ],
   "metadata": {}
  },
  {
   "cell_type": "markdown",
   "source": [
    "Given the following dictionary, use indexing to get to the word `\"sdia\"`"
   ],
   "metadata": {}
  },
  {
   "cell_type": "code",
   "execution_count": 30,
   "source": [
    "d = {\r\n",
    "    \"outer\": [\r\n",
    "        1,\r\n",
    "        2,\r\n",
    "        3,\r\n",
    "        {\"inner\": [\"this\", \"is\", \"inception\", {\"inner_inner\": [1, 2, 3, \"sdia\"]}]},\r\n",
    "    ]\r\n",
    "}\r\n",
    "\r\n",
    "d[\"outer\"][3][\"inner\"][3][\"inner_inner\"][3]"
   ],
   "outputs": [
    {
     "output_type": "execute_result",
     "data": {
      "text/plain": [
       "'sdia'"
      ]
     },
     "metadata": {},
     "execution_count": 30
    }
   ],
   "metadata": {}
  },
  {
   "cell_type": "markdown",
   "source": [
    "From the following dictionary,\r\n",
    "- Create the list of keys\r\n",
    "- Create the list of values\r\n",
    "- Check if the key `\"abc\"` is present, if not, return `123`.\r\n",
    "- Merge the initial dictionary with `{\"e\": -1, 4: True}`"
   ],
   "metadata": {}
  },
  {
   "cell_type": "code",
   "execution_count": 31,
   "source": [
    "d1 = dict(zip([(0, 1), \"e\", 1, None], [\"abc\", 4, None, 1 + 2j]))\r\n",
    "l1 = list(d1.keys())\r\n",
    "print(\"Keys : \" + str(l1))\r\n",
    "l2 = list(d1.values())\r\n",
    "print(\"Values : \" + str(l2))\r\n",
    "print(d1.get(\"abc, \", 123))\r\n",
    "d1.update({\"e\": -1, 4: True})\r\n",
    "print(d1)"
   ],
   "outputs": [
    {
     "output_type": "stream",
     "name": "stdout",
     "text": [
      "Keys : [(0, 1), 'e', 1, None]\n",
      "Values : ['abc', 4, None, (1+2j)]\n",
      "123\n",
      "{(0, 1): 'abc', 'e': -1, 1: None, None: (1+2j), 4: True}\n"
     ]
    }
   ],
   "metadata": {}
  },
  {
   "cell_type": "markdown",
   "source": [
    "## Conditions"
   ],
   "metadata": {}
  },
  {
   "cell_type": "markdown",
   "source": [
    "Propose two ways to construct the list of odd values ranging from 0 to 30"
   ],
   "metadata": {}
  },
  {
   "cell_type": "code",
   "execution_count": 32,
   "source": [
    "l1 = [i for i in range(1, 31, 2)]\r\n",
    "print(l1)\r\n",
    "l2 = [2*i+1 for i in range(0, 15)]\r\n",
    "print(l2)"
   ],
   "outputs": [
    {
     "output_type": "stream",
     "name": "stdout",
     "text": [
      "[1, 3, 5, 7, 9, 11, 13, 15, 17, 19, 21, 23, 25, 27, 29]\n",
      "[1, 3, 5, 7, 9, 11, 13, 15, 17, 19, 21, 23, 25, 27, 29]\n"
     ]
    }
   ],
   "metadata": {}
  },
  {
   "cell_type": "markdown",
   "source": [
    "From the following list, create another list which contains\r\n",
    "- `\"fiz\"` if the item is a multiple of 5,\r\n",
    "- `\"buz\"` if the item is a multiple of 7,\r\n",
    "- `\"fizbuz\"` if the item is a both a multiple of 5 and 7,\r\n",
    "- the index of the item otherwise."
   ],
   "metadata": {}
  },
  {
   "cell_type": "code",
   "execution_count": 33,
   "source": [
    "x = [2, 1, 3, 31, 35, 20, 70, 132, 144, 49]\r\n",
    "y = []\r\n",
    "for i in range(len(x)) :\r\n",
    "    if x[i]%5 == 0 and x[i]%7 == 0 :\r\n",
    "        y.append(\"fizbuz\")\r\n",
    "    elif x[i]%5 == 0 :\r\n",
    "        y.append(\"fiz\")\r\n",
    "    elif x[i]%7 == 0 :\r\n",
    "        y.append(\"buz\")\r\n",
    "    else :\r\n",
    "        y.append(i)\r\n",
    "print(y)"
   ],
   "outputs": [
    {
     "output_type": "stream",
     "name": "stdout",
     "text": [
      "[0, 1, 2, 3, 'fizbuz', 'fiz', 'fizbuz', 7, 8, 'buz']\n"
     ]
    }
   ],
   "metadata": {}
  },
  {
   "cell_type": "markdown",
   "source": [
    "Given a string variable `course`, construct a `if/elif/else` statement that prints:\r\n",
    "- `\"That is very useful!\"` if `course` is `\"maths\"` (any kind of capitalization)\r\n",
    "- `\"That is very useful!\"` if `course` is `\"python\"` (any kind of capitalization)\r\n",
    "- `\"How nice!\"` if `course` is `\"meditation\"` (any kind of capitalization)\r\n",
    "- `\"You're not at Hogwarts\"` if `course` is `\"magic\"` (any kind of capitalization)\r\n",
    "- otherwise `\"What is this COURSE?\"` if `course` is anything else."
   ],
   "metadata": {}
  },
  {
   "cell_type": "code",
   "execution_count": 34,
   "source": [
    "course = \"test\"\r\n",
    "if course.lower() == \"maths\" :\r\n",
    "    print(\"That is very useful!\")\r\n",
    "elif course.lower() == \"python\" :\r\n",
    "    print(\"That is very useful!\")\r\n",
    "elif course.lower() == \"meditation\" :\r\n",
    "    print(\"How nice!\")\r\n",
    "elif course.lower() == \"magic\" :\r\n",
    "    print(\"You're not at Hogwarts\")\r\n",
    "else :\r\n",
    "    print(\"What is this COURSE?\")"
   ],
   "outputs": [
    {
     "output_type": "stream",
     "name": "stdout",
     "text": [
      "What is this COURSE?\n"
     ]
    }
   ],
   "metadata": {}
  },
  {
   "cell_type": "markdown",
   "source": [
    "Given the following variables, create and print the string\r\n",
    "\r\n",
    "``quantity`` ``fruit``(s) cost(s) $``price``\r\n",
    "\r\n",
    "such that\r\n",
    "- there is an `\"s\"` at `\"cost\"` when there is more only one fruit,\r\n",
    "- there is an `\"s\"` at `\"fruit\"` when there is more that one fruit,\r\n",
    "- the price is displayed as ...,xxx,xxx.yy where yy corresponds rounded cents value"
   ],
   "metadata": {}
  },
  {
   "cell_type": "code",
   "execution_count": 44,
   "source": [
    "quantity = 1\r\n",
    "fruit = \"avocado\"\r\n",
    "price = 1.8912392e4"
   ],
   "outputs": [],
   "metadata": {}
  },
  {
   "cell_type": "code",
   "execution_count": 46,
   "source": [
    "sprice = \"${:,.2f}\".format(price)\r\n",
    "fruitstring = str(quantity) + \" \" + fruit\r\n",
    "if quantity <= 1 :\r\n",
    "    fruitstring += \" costs \" + sprice\r\n",
    "else :\r\n",
    "    fruitstring += \"s cost \" + sprice\r\n",
    "print(fruitstring)"
   ],
   "outputs": [
    {
     "output_type": "stream",
     "name": "stdout",
     "text": [
      "2 avocados cost $18,912.39\n"
     ]
    }
   ],
   "metadata": {}
  },
  {
   "cell_type": "markdown",
   "source": [
    "## Functions\r\n",
    "\r\n",
    "- Create your function in `src/lab1/functions.py` files\r\n",
    "- Import them using `from lab1.functions import MYFUNCTION`"
   ],
   "metadata": {}
  },
  {
   "cell_type": "code",
   "execution_count": 1,
   "source": [
    "from lab1.functions import *"
   ],
   "outputs": [],
   "metadata": {}
  },
  {
   "cell_type": "markdown",
   "source": [
    "Define the function `is_unique(x)` which takes a list of integers `x` as input and returns `True` if the there is no duplicate items otherwise return `False`."
   ],
   "metadata": {}
  },
  {
   "cell_type": "markdown",
   "source": [
    "Define a function `triangle_shape(height)`, that returns \r\n",
    "- `\"\"` if `height=0`, \r\n",
    "- otherwise it returns a string that forms a triangle with height prescribed by `height`.\r\n",
    "\r\n",
    "**Examples**\r\n",
    "\r\n",
    "height=1\r\n",
    "```\r\n",
    "x\r\n",
    "```\r\n",
    "\r\n",
    "height=2\r\n",
    "```\r\n",
    " x \r\n",
    "xxx\r\n",
    "```\r\n",
    "\r\n",
    "height=3\r\n",
    "```\r\n",
    "  x  \r\n",
    " xxx \r\n",
    "xxxxx\r\n",
    "```\r\n",
    "\r\n",
    "height=4\r\n",
    "```\r\n",
    "   x   \r\n",
    "  xxx  \r\n",
    " xxxxx \r\n",
    "xxxxxxx\r\n",
    "```\r\n",
    "\r\n",
    "height=5\r\n",
    "```\r\n",
    "    x    \r\n",
    "   xxx   \r\n",
    "  xxxxx  \r\n",
    " xxxxxxx \r\n",
    "xxxxxxxxx\r\n",
    "```\r\n",
    "\r\n",
    "height=6\r\n",
    "```\r\n",
    "     x     \r\n",
    "    xxx    \r\n",
    "   xxxxx   \r\n",
    "  xxxxxxx  \r\n",
    " xxxxxxxxx \r\n",
    "xxxxxxxxxxx\r\n",
    "```"
   ],
   "metadata": {}
  },
  {
   "cell_type": "code",
   "execution_count": 2,
   "source": [
    "print(triangle_shape(3))"
   ],
   "outputs": [
    {
     "output_type": "stream",
     "name": "stdout",
     "text": [
      "  x  \n",
      " xxx \n",
      "xxxxx\n"
     ]
    }
   ],
   "metadata": {}
  }
 ],
 "metadata": {
  "orig_nbformat": 4,
  "language_info": {
   "name": "python",
   "version": "3.8.11",
   "mimetype": "text/x-python",
   "codemirror_mode": {
    "name": "ipython",
    "version": 3
   },
   "pygments_lexer": "ipython3",
   "nbconvert_exporter": "python",
   "file_extension": ".py"
  },
  "kernelspec": {
   "name": "python3",
   "display_name": "Python 3.8.11 64-bit ('sdia-python': conda)"
  },
  "interpreter": {
   "hash": "8af255c383035b111fc18b4d128849444c1d2898a4a5216c1bd1cc24d30d6f01"
  }
 },
 "nbformat": 4,
 "nbformat_minor": 2
}